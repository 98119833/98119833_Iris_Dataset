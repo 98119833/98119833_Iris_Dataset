{
  "nbformat": 4,
  "nbformat_minor": 0,
  "metadata": {
    "colab": {
      "name": "98119833 Iris Dataset.ipynb",
      "provenance": [],
      "collapsed_sections": [],
      "include_colab_link": true
    },
    "kernelspec": {
      "name": "python3",
      "display_name": "Python 3"
    },
    "language_info": {
      "name": "python"
    }
  },
  "cells": [
    {
      "cell_type": "markdown",
      "metadata": {
        "id": "view-in-github",
        "colab_type": "text"
      },
      "source": [
        "<a href=\"https://colab.research.google.com/github/98119833/98119833_Iris_Dataset/blob/main/98119833_Iris_Dataset.ipynb\" target=\"_parent\"><img src=\"https://colab.research.google.com/assets/colab-badge.svg\" alt=\"Open In Colab\"/></a>"
      ]
    },
    {
      "cell_type": "code",
      "metadata": {
        "id": "hP7wzx5ruVvL"
      },
      "source": [
        ""
      ],
      "execution_count": null,
      "outputs": []
    },
    {
      "cell_type": "code",
      "metadata": {
        "id": "6iYls7X8t86a"
      },
      "source": [
        "import matplotlib.pyplot as plt\n",
        "import pandas as pd\n",
        "import numpy as np\n",
        "import seaborn as sns\n",
        "from scipy import stats\n",
        "import sklearn"
      ],
      "execution_count": null,
      "outputs": []
    },
    {
      "cell_type": "code",
      "metadata": {
        "id": "iU60ROgcuZXx"
      },
      "source": [
        "from math import log2,sqrt "
      ],
      "execution_count": null,
      "outputs": []
    },
    {
      "cell_type": "code",
      "metadata": {
        "id": "zGZOTYxTukSE"
      },
      "source": [
        "from sklearn.model_selection import train_test_split\n",
        "from sklearn.preprocessing import LabelEncoder\n",
        "from sklearn.tree import DecisionTreeClassifier\n",
        "from sklearn import metrics\n",
        "from sklearn import tree\n",
        "from sklearn import preprocessing \n",
        "from sklearn.tree import export_graphviz\n",
        "from sklearn.model_selection import GridSearchCV"
      ],
      "execution_count": null,
      "outputs": []
    },
    {
      "cell_type": "code",
      "metadata": {
        "id": "y0emb-jtvv9P"
      },
      "source": [
        "from six import StringIO\n",
        "from IPython.display import Image\n",
        "import pydotplus\n",
        "from tqdm.notebook import tqdm_notebook as tqdm"
      ],
      "execution_count": null,
      "outputs": []
    },
    {
      "cell_type": "code",
      "metadata": {
        "colab": {
          "base_uri": "https://localhost:8080/",
          "height": 206
        },
        "id": "7nL2ZrlnUChi",
        "outputId": "33064da0-2bd1-41b6-819a-dcc7d7039bce"
      },
      "source": [
        "column_names =['sepal length in cm', 'sepal width in cm', 'petal length in cm', \n",
        "                 'petal width in cm', \"class\"]\n",
        "data = pd.read_csv(\"https://raw.githubusercontent.com/98119833/98119833_Iris_Dataset/main/Iris_Training_data.csv\",header=None, names = column_names)\n",
        "data.head()"
      ],
      "execution_count": null,
      "outputs": [
        {
          "output_type": "execute_result",
          "data": {
            "text/html": [
              "<div>\n",
              "<style scoped>\n",
              "    .dataframe tbody tr th:only-of-type {\n",
              "        vertical-align: middle;\n",
              "    }\n",
              "\n",
              "    .dataframe tbody tr th {\n",
              "        vertical-align: top;\n",
              "    }\n",
              "\n",
              "    .dataframe thead th {\n",
              "        text-align: right;\n",
              "    }\n",
              "</style>\n",
              "<table border=\"1\" class=\"dataframe\">\n",
              "  <thead>\n",
              "    <tr style=\"text-align: right;\">\n",
              "      <th></th>\n",
              "      <th>sepal length in cm</th>\n",
              "      <th>sepal width in cm</th>\n",
              "      <th>petal length in cm</th>\n",
              "      <th>petal width in cm</th>\n",
              "      <th>class</th>\n",
              "    </tr>\n",
              "  </thead>\n",
              "  <tbody>\n",
              "    <tr>\n",
              "      <th>0</th>\n",
              "      <td>6.0</td>\n",
              "      <td>3.0</td>\n",
              "      <td>4.8</td>\n",
              "      <td>1.8</td>\n",
              "      <td>Iris-virginica</td>\n",
              "    </tr>\n",
              "    <tr>\n",
              "      <th>1</th>\n",
              "      <td>5.1</td>\n",
              "      <td>3.8</td>\n",
              "      <td>1.5</td>\n",
              "      <td>0.3</td>\n",
              "      <td>Iris-setosa</td>\n",
              "    </tr>\n",
              "    <tr>\n",
              "      <th>2</th>\n",
              "      <td>4.9</td>\n",
              "      <td>2.4</td>\n",
              "      <td>3.3</td>\n",
              "      <td>1.0</td>\n",
              "      <td>Iris-versicolor</td>\n",
              "    </tr>\n",
              "    <tr>\n",
              "      <th>3</th>\n",
              "      <td>6.7</td>\n",
              "      <td>2.5</td>\n",
              "      <td>5.8</td>\n",
              "      <td>1.8</td>\n",
              "      <td>Iris-virginica</td>\n",
              "    </tr>\n",
              "    <tr>\n",
              "      <th>4</th>\n",
              "      <td>5.7</td>\n",
              "      <td>3.0</td>\n",
              "      <td>4.2</td>\n",
              "      <td>1.2</td>\n",
              "      <td>Iris-versicolor</td>\n",
              "    </tr>\n",
              "  </tbody>\n",
              "</table>\n",
              "</div>"
            ],
            "text/plain": [
              "   sepal length in cm  sepal width in cm  ...  petal width in cm            class\n",
              "0                 6.0                3.0  ...                1.8   Iris-virginica\n",
              "1                 5.1                3.8  ...                0.3      Iris-setosa\n",
              "2                 4.9                2.4  ...                1.0  Iris-versicolor\n",
              "3                 6.7                2.5  ...                1.8   Iris-virginica\n",
              "4                 5.7                3.0  ...                1.2  Iris-versicolor\n",
              "\n",
              "[5 rows x 5 columns]"
            ]
          },
          "metadata": {},
          "execution_count": 30
        }
      ]
    },
    {
      "cell_type": "code",
      "metadata": {
        "id": "vGwBxLulWUZt",
        "colab": {
          "base_uri": "https://localhost:8080/",
          "height": 300
        },
        "outputId": "335ef3d4-e8c9-4222-e27c-cb5b524e548e"
      },
      "source": [
        "data.describe()"
      ],
      "execution_count": null,
      "outputs": [
        {
          "output_type": "execute_result",
          "data": {
            "text/html": [
              "<div>\n",
              "<style scoped>\n",
              "    .dataframe tbody tr th:only-of-type {\n",
              "        vertical-align: middle;\n",
              "    }\n",
              "\n",
              "    .dataframe tbody tr th {\n",
              "        vertical-align: top;\n",
              "    }\n",
              "\n",
              "    .dataframe thead th {\n",
              "        text-align: right;\n",
              "    }\n",
              "</style>\n",
              "<table border=\"1\" class=\"dataframe\">\n",
              "  <thead>\n",
              "    <tr style=\"text-align: right;\">\n",
              "      <th></th>\n",
              "      <th>sepal length in cm</th>\n",
              "      <th>sepal width in cm</th>\n",
              "      <th>petal length in cm</th>\n",
              "      <th>petal width in cm</th>\n",
              "    </tr>\n",
              "  </thead>\n",
              "  <tbody>\n",
              "    <tr>\n",
              "      <th>count</th>\n",
              "      <td>105.000000</td>\n",
              "      <td>105.000000</td>\n",
              "      <td>105.000000</td>\n",
              "      <td>105.000000</td>\n",
              "    </tr>\n",
              "    <tr>\n",
              "      <th>mean</th>\n",
              "      <td>5.904762</td>\n",
              "      <td>3.039048</td>\n",
              "      <td>3.955238</td>\n",
              "      <td>1.285714</td>\n",
              "    </tr>\n",
              "    <tr>\n",
              "      <th>std</th>\n",
              "      <td>0.844710</td>\n",
              "      <td>0.427537</td>\n",
              "      <td>1.748900</td>\n",
              "      <td>0.751208</td>\n",
              "    </tr>\n",
              "    <tr>\n",
              "      <th>min</th>\n",
              "      <td>4.400000</td>\n",
              "      <td>2.000000</td>\n",
              "      <td>1.000000</td>\n",
              "      <td>0.100000</td>\n",
              "    </tr>\n",
              "    <tr>\n",
              "      <th>25%</th>\n",
              "      <td>5.100000</td>\n",
              "      <td>2.800000</td>\n",
              "      <td>1.600000</td>\n",
              "      <td>0.400000</td>\n",
              "    </tr>\n",
              "    <tr>\n",
              "      <th>50%</th>\n",
              "      <td>5.900000</td>\n",
              "      <td>3.000000</td>\n",
              "      <td>4.500000</td>\n",
              "      <td>1.400000</td>\n",
              "    </tr>\n",
              "    <tr>\n",
              "      <th>75%</th>\n",
              "      <td>6.500000</td>\n",
              "      <td>3.300000</td>\n",
              "      <td>5.300000</td>\n",
              "      <td>1.900000</td>\n",
              "    </tr>\n",
              "    <tr>\n",
              "      <th>max</th>\n",
              "      <td>7.900000</td>\n",
              "      <td>4.400000</td>\n",
              "      <td>6.900000</td>\n",
              "      <td>2.500000</td>\n",
              "    </tr>\n",
              "  </tbody>\n",
              "</table>\n",
              "</div>"
            ],
            "text/plain": [
              "       sepal length in cm  ...  petal width in cm\n",
              "count          105.000000  ...         105.000000\n",
              "mean             5.904762  ...           1.285714\n",
              "std              0.844710  ...           0.751208\n",
              "min              4.400000  ...           0.100000\n",
              "25%              5.100000  ...           0.400000\n",
              "50%              5.900000  ...           1.400000\n",
              "75%              6.500000  ...           1.900000\n",
              "max              7.900000  ...           2.500000\n",
              "\n",
              "[8 rows x 4 columns]"
            ]
          },
          "metadata": {},
          "execution_count": 31
        }
      ]
    },
    {
      "cell_type": "code",
      "metadata": {
        "id": "UUGF8THwVrRa",
        "colab": {
          "base_uri": "https://localhost:8080/"
        },
        "outputId": "ae0578bd-4da2-44d2-93e9-f6a45fcb492d"
      },
      "source": [
        "data.info()\n",
        "\n"
      ],
      "execution_count": null,
      "outputs": [
        {
          "output_type": "stream",
          "name": "stdout",
          "text": [
            "<class 'pandas.core.frame.DataFrame'>\n",
            "RangeIndex: 105 entries, 0 to 104\n",
            "Data columns (total 5 columns):\n",
            " #   Column              Non-Null Count  Dtype  \n",
            "---  ------              --------------  -----  \n",
            " 0   sepal length in cm  105 non-null    float64\n",
            " 1   sepal width in cm   105 non-null    float64\n",
            " 2   petal length in cm  105 non-null    float64\n",
            " 3   petal width in cm   105 non-null    float64\n",
            " 4   class               105 non-null    object \n",
            "dtypes: float64(4), object(1)\n",
            "memory usage: 4.2+ KB\n"
          ]
        }
      ]
    },
    {
      "cell_type": "code",
      "metadata": {
        "id": "OMMcErHnWGhf",
        "colab": {
          "base_uri": "https://localhost:8080/"
        },
        "outputId": "bc5bab71-e355-4e17-e41e-4d0e47b8489a"
      },
      "source": [
        "print(f'dataset shape is{data.shape}')"
      ],
      "execution_count": null,
      "outputs": [
        {
          "output_type": "stream",
          "name": "stdout",
          "text": [
            "dataset shape is(105, 5)\n"
          ]
        }
      ]
    },
    {
      "cell_type": "code",
      "metadata": {
        "id": "SNrsQM5TebyG"
      },
      "source": [
        "def entropy(class_y):\n",
        "\n",
        "    if len(class_y) <=1:\n",
        "        return 0\n",
        "\n",
        "    total_count = np.bincount(class_y)\n",
        "    probabilities = total_count[np.nonzero(total_count)] / len(class_y)\n",
        "    if len(probabilities) <= 1:\n",
        "        return 0\n",
        "\n",
        "    return -np.sum(probabilities * np.log(probabilities))/ np.log(len(probabilities))\n"
      ],
      "execution_count": null,
      "outputs": []
    },
    {
      "cell_type": "code",
      "metadata": {
        "id": "O4-KLVj8mLWT",
        "colab": {
          "base_uri": "https://localhost:8080/"
        },
        "outputId": "8fab90c3-1796-465a-90b1-a6093d817847"
      },
      "source": [
        "X=[0,0,0,1,1,1]\n",
        "z=np.bincount(X)\n",
        "print(z)\n",
        "z[np.nonzero(z)]/len(X)"
      ],
      "execution_count": null,
      "outputs": [
        {
          "output_type": "stream",
          "name": "stdout",
          "text": [
            "[3 3]\n"
          ]
        },
        {
          "output_type": "execute_result",
          "data": {
            "text/plain": [
              "array([0.5, 0.5])"
            ]
          },
          "metadata": {},
          "execution_count": 35
        }
      ]
    },
    {
      "cell_type": "code",
      "metadata": {
        "id": "R_-MZYaQdsQJ"
      },
      "source": [
        "def information_gain(previous_y, current_y):\n",
        "  \n",
        "    conditional_entropy=0\n",
        "    for y in current_y:\n",
        "        conditional_entropy += (entropy(y)*len(y)/len(previous_y))\n",
        "    info_gain = entropy(previous_y) - conditional_entropy\n",
        "    return info_gain\n"
      ],
      "execution_count": null,
      "outputs": []
    },
    {
      "cell_type": "code",
      "metadata": {
        "id": "fSJDK8Yadpwb",
        "colab": {
          "base_uri": "https://localhost:8080/"
        },
        "outputId": "2302443a-7064-4c16-e0a9-9cf51f88c1e0"
      },
      "source": [
        "#Test Case\n",
        "test_class_y = [0,0,0,1,1,1,1,1]\n",
        "print(entropy(test_class_y))\n",
        "\n",
        "previous_y=[0,0,0,1,1,1]\n",
        "current_y=[0,0],[1,1,1,0]\n",
        "print(information_gain(previous_y,current_y))\n"
      ],
      "execution_count": null,
      "outputs": [
        {
          "output_type": "stream",
          "name": "stdout",
          "text": [
            "0.954434002924965\n",
            "0.4591479170272448\n"
          ]
        }
      ]
    },
    {
      "cell_type": "code",
      "metadata": {
        "id": "jx1FKlsj2lxI"
      },
      "source": [
        "def partition_classes(X, y, split_attribute, split_val):\n",
        "    \n",
        "    X = np.array(X)\n",
        "    column_split = X[:,split_attribute]\n",
        "    X_left = []\n",
        "    y_right = []\n",
        "    X_right =[]\n",
        "    y_left = []\n",
        "\n",
        "    counter=0\n",
        "\n",
        "    if isinstance(split_val,str) == False:\n",
        "        for i in column_split:\n",
        "            if i <= split_val:\n",
        "                X_left.append(X[counter])\n",
        "                y_left.append(y[counter])\n",
        "            else:\n",
        "                X_right.append(X[counter])\n",
        "                y_right.append(y[counter])\n",
        "            counter+=1\n",
        "         \n",
        "    else:\n",
        "        for i in column_split:\n",
        "            if i == split_val:\n",
        "                X_left.append(X[counter])\n",
        "                y_left.append(y[counter])\n",
        "            else:\n",
        "                X_right.append(X[counter])\n",
        "                y_right.append(y[counter])\n",
        "            counter+=1;\n",
        "\n",
        "    return X_left, X_right, y_left, y_right\n"
      ],
      "execution_count": null,
      "outputs": []
    },
    {
      "cell_type": "code",
      "metadata": {
        "id": "OJO8-0R_PheL"
      },
      "source": [
        "def find_best_split(X, y, split_attribute):\n",
        "\n",
        "\n",
        "    best_info_gain = 0\n",
        "    X = np.array(X)\n",
        "    column_split = X[:,split_attribute]\n",
        "\n",
        "    column_split = np.unique(column_split)\n",
        "    best_split_val = column_split[0]\n",
        "\n",
        "    for split_val in column_split:\n",
        "        current_X_left, current_X_right, current_y_left, current_y_right = partition_classes(X, y, split_attribute, split_val)\n",
        "        current_y = []\n",
        "        current_y.append(current_y_left)\n",
        "        current_y.append(current_y_right)\n",
        "\n",
        "        current_info_gain = information_gain(y,current_y)\n",
        "        if current_info_gain > best_info_gain:\n",
        "            best_info_gain = current_info_gain \n",
        "            best_split_val = split_val\n",
        "\n",
        "    return best_split_val, best_info_gain\n"
      ],
      "execution_count": null,
      "outputs": []
    },
    {
      "cell_type": "code",
      "metadata": {
        "id": "NfALjX7ORIkK"
      },
      "source": [
        "def find_best_feature(X, y):\n",
        "\n",
        "    best_info_gain = 0\n",
        "    best_feature = 0\n",
        "    best_split_val = 0\n",
        "    for feature_index in range(len(X[0])):\n",
        "        current_best_split_val, current_best_info_gain = find_best_split(X, y, feature_index) \n",
        "        if current_best_info_gain>best_info_gain:\n",
        "            best_info_gain = current_best_info_gain\n",
        "            best_feature = feature_index\n",
        "            best_split_val = current_best_split_val\n",
        "    return best_feature, best_split_val\n"
      ],
      "execution_count": null,
      "outputs": []
    },
    {
      "cell_type": "code",
      "metadata": {
        "id": "leTWjal7SGY-"
      },
      "source": [
        "class MyDecisionTree(object):\n",
        "    def __init__(self, max_depth=None):\n",
        "\n",
        "        self.tree = {}\n",
        "        self.residual_tree = {}\n",
        "        self.max_depth = max_depth\n",
        "\n",
        "    def fit(self, X, y, depth):\n",
        "\n",
        "        unique_labels=np.unique(y)\n",
        "        if (len(unique_labels)==1) or (depth == max_depth):\n",
        "            unique_labels, counts_unique_labels = np.unique(y, return_counts=True)\n",
        "            index = counts_unique_labels.argmax()\n",
        "            classification = unique_labels[index]\n",
        "            return classification\n",
        "         \n",
        "\n",
        "        best_feat, best_split = find_best_feature(X, y)\n",
        "        best_split, information_gain = find_best_split(X, y, best_feat)\n",
        "        X_left, X_right, y_left, y_right = partition_classes(X, y, best_feat, best_split)\n",
        "\n",
        "        if isinstance(best_split,str):\n",
        "            question = \"{} == {}\".format(best_feat, best_split)\n",
        "        else:\n",
        "            question = \"{} <= {}\".format(best_feat, best_split)\n",
        "        node = {question: []}\n",
        "\n",
        "        depth+=1\n",
        "        yes_answer = self.fit(X_left,y_left, depth)\n",
        "        no_answer = self.fit(X_right, y_right, depth)\n",
        "\n",
        "        if yes_answer == no_answer:\n",
        "            node = yes_answer\n",
        "        else:\n",
        "            node[question].append(yes_answer)\n",
        "            node[question].append(no_answer)\n",
        "        self.tree = node\n",
        "        return node\n",
        "                                                    \n",
        "    def predict(self, record,flag=1):\n",
        "        if flag == 1:\n",
        "            self.residual_tree = self.tree\n",
        "        question = list(self.residual_tree.keys())[0]\n",
        "        feature, comparison, value = question.split()\n",
        "\n",
        "        if comparison == \"==\":\n",
        "            if record[int(feature)] == value:\n",
        "                answer = self.residual_tree[question][0]\n",
        "            else:\n",
        "                answer = self.residual_tree[question][1]\n",
        "        elif comparison == \"<=\":\n",
        "            if record[int(feature)] <= float(value):\n",
        "                answer = self.residual_tree[question][0]\n",
        "            else:\n",
        "                answer = self.residual_tree[question][1]\n",
        "            \n",
        "            \n",
        "        if not isinstance(answer, dict):\n",
        "            return answer       \n",
        "        else:\n",
        "            self.residual_tree = answer\n",
        "            return self.predict(record,0) "
      ],
      "execution_count": null,
      "outputs": []
    },
    {
      "cell_type": "code",
      "metadata": {
        "id": "MK1PQLWQTkYU"
      },
      "source": [
        "def DecisionTreeEvaluation(id3,X,y, verbose=False):\n",
        "\n",
        "    y_predicted = []\n",
        "    for record in X:\n",
        "        y_predicted.append(id3.predict(record))\n",
        "   \n",
        "    results = [prediction == truth for prediction, truth in zip(y_predicted, y)]\n",
        "    \n",
        "    accuracy = float(results.count(True)) / float(len(results))\n",
        "    if verbose:\n",
        "        print(\"accuracy: %.4f\" % accuracy)\n",
        "    return accuracy "
      ],
      "execution_count": null,
      "outputs": []
    },
    {
      "cell_type": "code",
      "metadata": {
        "id": "G3Gf1439jTKU",
        "colab": {
          "base_uri": "https://localhost:8080/",
          "height": 206
        },
        "outputId": "a30bd43f-4753-4253-ae61-c6c4888429a0"
      },
      "source": [
        "column_names =['sepal length in cm', 'sepal width in cm', 'petal length in cm', \n",
        "                 'petal width in cm', \"class\"]\n",
        "df_test = pd.read_csv(\"https://raw.githubusercontent.com/98119833/98119833_Iris_Dataset/main/Iris_Test_data.csv\", header = None, names = column_names)\n",
        "df_test.head()"
      ],
      "execution_count": null,
      "outputs": [
        {
          "output_type": "execute_result",
          "data": {
            "text/html": [
              "<div>\n",
              "<style scoped>\n",
              "    .dataframe tbody tr th:only-of-type {\n",
              "        vertical-align: middle;\n",
              "    }\n",
              "\n",
              "    .dataframe tbody tr th {\n",
              "        vertical-align: top;\n",
              "    }\n",
              "\n",
              "    .dataframe thead th {\n",
              "        text-align: right;\n",
              "    }\n",
              "</style>\n",
              "<table border=\"1\" class=\"dataframe\">\n",
              "  <thead>\n",
              "    <tr style=\"text-align: right;\">\n",
              "      <th></th>\n",
              "      <th>sepal length in cm</th>\n",
              "      <th>sepal width in cm</th>\n",
              "      <th>petal length in cm</th>\n",
              "      <th>petal width in cm</th>\n",
              "      <th>class</th>\n",
              "    </tr>\n",
              "  </thead>\n",
              "  <tbody>\n",
              "    <tr>\n",
              "      <th>0</th>\n",
              "      <td>7.0</td>\n",
              "      <td>3.2</td>\n",
              "      <td>4.7</td>\n",
              "      <td>1.4</td>\n",
              "      <td>Iris-versicolor</td>\n",
              "    </tr>\n",
              "    <tr>\n",
              "      <th>1</th>\n",
              "      <td>5.6</td>\n",
              "      <td>3.0</td>\n",
              "      <td>4.1</td>\n",
              "      <td>1.3</td>\n",
              "      <td>Iris-versicolor</td>\n",
              "    </tr>\n",
              "    <tr>\n",
              "      <th>2</th>\n",
              "      <td>4.6</td>\n",
              "      <td>3.1</td>\n",
              "      <td>1.5</td>\n",
              "      <td>0.2</td>\n",
              "      <td>Iris-setosa</td>\n",
              "    </tr>\n",
              "    <tr>\n",
              "      <th>3</th>\n",
              "      <td>4.3</td>\n",
              "      <td>3.0</td>\n",
              "      <td>1.1</td>\n",
              "      <td>0.1</td>\n",
              "      <td>Iris-setosa</td>\n",
              "    </tr>\n",
              "    <tr>\n",
              "      <th>4</th>\n",
              "      <td>6.3</td>\n",
              "      <td>2.5</td>\n",
              "      <td>5.0</td>\n",
              "      <td>1.9</td>\n",
              "      <td>Iris-virginica</td>\n",
              "    </tr>\n",
              "  </tbody>\n",
              "</table>\n",
              "</div>"
            ],
            "text/plain": [
              "   sepal length in cm  sepal width in cm  ...  petal width in cm            class\n",
              "0                 7.0                3.2  ...                1.4  Iris-versicolor\n",
              "1                 5.6                3.0  ...                1.3  Iris-versicolor\n",
              "2                 4.6                3.1  ...                0.2      Iris-setosa\n",
              "3                 4.3                3.0  ...                0.1      Iris-setosa\n",
              "4                 6.3                2.5  ...                1.9   Iris-virginica\n",
              "\n",
              "[5 rows x 5 columns]"
            ]
          },
          "metadata": {},
          "execution_count": 43
        }
      ]
    },
    {
      "cell_type": "code",
      "metadata": {
        "id": "1gMAH2rhTy7u",
        "colab": {
          "base_uri": "https://localhost:8080/",
          "height": 206
        },
        "outputId": "dccc9338-8824-45c7-c545-af2d00243fc9"
      },
      "source": [
        "df_train = pd.read_csv(\"https://raw.githubusercontent.com/98119833/98119833_Iris_Dataset/main/Iris_Training_data.csv\", header = None, names = column_names)\n",
        "column_names =['sepal length in cm', 'sepal width in cm', 'petal length in cm', \n",
        "                 'petal width in cm', \"class\"]\n",
        "df_train.head()\n"
      ],
      "execution_count": null,
      "outputs": [
        {
          "output_type": "execute_result",
          "data": {
            "text/html": [
              "<div>\n",
              "<style scoped>\n",
              "    .dataframe tbody tr th:only-of-type {\n",
              "        vertical-align: middle;\n",
              "    }\n",
              "\n",
              "    .dataframe tbody tr th {\n",
              "        vertical-align: top;\n",
              "    }\n",
              "\n",
              "    .dataframe thead th {\n",
              "        text-align: right;\n",
              "    }\n",
              "</style>\n",
              "<table border=\"1\" class=\"dataframe\">\n",
              "  <thead>\n",
              "    <tr style=\"text-align: right;\">\n",
              "      <th></th>\n",
              "      <th>sepal length in cm</th>\n",
              "      <th>sepal width in cm</th>\n",
              "      <th>petal length in cm</th>\n",
              "      <th>petal width in cm</th>\n",
              "      <th>class</th>\n",
              "    </tr>\n",
              "  </thead>\n",
              "  <tbody>\n",
              "    <tr>\n",
              "      <th>0</th>\n",
              "      <td>6.0</td>\n",
              "      <td>3.0</td>\n",
              "      <td>4.8</td>\n",
              "      <td>1.8</td>\n",
              "      <td>Iris-virginica</td>\n",
              "    </tr>\n",
              "    <tr>\n",
              "      <th>1</th>\n",
              "      <td>5.1</td>\n",
              "      <td>3.8</td>\n",
              "      <td>1.5</td>\n",
              "      <td>0.3</td>\n",
              "      <td>Iris-setosa</td>\n",
              "    </tr>\n",
              "    <tr>\n",
              "      <th>2</th>\n",
              "      <td>4.9</td>\n",
              "      <td>2.4</td>\n",
              "      <td>3.3</td>\n",
              "      <td>1.0</td>\n",
              "      <td>Iris-versicolor</td>\n",
              "    </tr>\n",
              "    <tr>\n",
              "      <th>3</th>\n",
              "      <td>6.7</td>\n",
              "      <td>2.5</td>\n",
              "      <td>5.8</td>\n",
              "      <td>1.8</td>\n",
              "      <td>Iris-virginica</td>\n",
              "    </tr>\n",
              "    <tr>\n",
              "      <th>4</th>\n",
              "      <td>5.7</td>\n",
              "      <td>3.0</td>\n",
              "      <td>4.2</td>\n",
              "      <td>1.2</td>\n",
              "      <td>Iris-versicolor</td>\n",
              "    </tr>\n",
              "  </tbody>\n",
              "</table>\n",
              "</div>"
            ],
            "text/plain": [
              "   sepal length in cm  sepal width in cm  ...  petal width in cm            class\n",
              "0                 6.0                3.0  ...                1.8   Iris-virginica\n",
              "1                 5.1                3.8  ...                0.3      Iris-setosa\n",
              "2                 4.9                2.4  ...                1.0  Iris-versicolor\n",
              "3                 6.7                2.5  ...                1.8   Iris-virginica\n",
              "4                 5.7                3.0  ...                1.2  Iris-versicolor\n",
              "\n",
              "[5 rows x 5 columns]"
            ]
          },
          "metadata": {},
          "execution_count": 44
        }
      ]
    },
    {
      "cell_type": "code",
      "metadata": {
        "id": "Oh2iMTS-m1Kh",
        "colab": {
          "base_uri": "https://localhost:8080/"
        },
        "outputId": "278d0f57-53a7-4605-c996-07ff8293ed7b"
      },
      "source": [
        "X_train = df_train.iloc[:,:-1]\n",
        "y_train = df_train.iloc[:,-1]\n",
        "print(y_train.head())\n",
        "label_enc = LabelEncoder()\n",
        "y_train = label_enc.fit_transform(y_train)\n",
        "print(y_train)"
      ],
      "execution_count": null,
      "outputs": [
        {
          "output_type": "stream",
          "name": "stdout",
          "text": [
            "0     Iris-virginica\n",
            "1        Iris-setosa\n",
            "2    Iris-versicolor\n",
            "3     Iris-virginica\n",
            "4    Iris-versicolor\n",
            "Name: class, dtype: object\n",
            "[2 0 1 2 1 2 1 0 1 2 2 2 0 2 1 1 2 2 2 2 1 2 0 1 0 0 0 1 1 2 2 2 0 0 1 1 1\n",
            " 1 1 1 0 1 2 2 0 1 2 2 2 1 0 2 0 1 0 1 2 0 2 2 0 2 2 0 1 2 1 1 0 0 0 2 1 1\n",
            " 0 0 0 1 2 1 2 1 2 2 0 2 2 0 2 1 2 0 2 1 2 0 1 1 2 1 0 2 2 0 0]\n"
          ]
        }
      ]
    },
    {
      "cell_type": "code",
      "metadata": {
        "id": "9Jdnt6-ipMsq",
        "colab": {
          "base_uri": "https://localhost:8080/"
        },
        "outputId": "f37b8610-3006-4160-cf05-8f1172fe73eb"
      },
      "source": [
        "X_test = df_test.iloc[:,: -1]\n",
        "y_test = df_test.iloc[:,-1]\n",
        "\n",
        "label_enc = LabelEncoder()\n",
        "y_test = label_enc.fit_transform(y_test)\n",
        "y_test"
      ],
      "execution_count": null,
      "outputs": [
        {
          "output_type": "execute_result",
          "data": {
            "text/plain": [
              "array([1, 1, 0, 0, 2, 0, 0, 1, 2, 1, 0, 1, 0, 0, 2, 0, 1, 2, 1, 0, 0, 0,\n",
              "       0, 1, 0, 0, 0, 0, 2, 1, 1, 1, 2, 1, 2, 0, 0, 1, 0, 1, 2, 1, 1, 0,\n",
              "       2])"
            ]
          },
          "metadata": {},
          "execution_count": 46
        }
      ]
    },
    {
      "cell_type": "code",
      "metadata": {
        "id": "q4Keqvu5ofvE",
        "colab": {
          "base_uri": "https://localhost:8080/"
        },
        "outputId": "bb455fc5-1347-4da0-dc34-67eab4ca1445"
      },
      "source": [
        "X_train, X_test = X_train.to_numpy(), X_test.to_numpy()\n",
        "max_depth = 7\n",
        "initial_depth = 0\n",
        "id3_dt = MyDecisionTree(max_depth)\n",
        "print(\"fitting the decision tree\")\n",
        "id3_dt.fit(X_train, y_train, initial_depth)\n",
        "DecisionTreeEvaluation(id3_dt,X_test,y_test, True)"
      ],
      "execution_count": null,
      "outputs": [
        {
          "output_type": "stream",
          "name": "stdout",
          "text": [
            "fitting the decision tree\n",
            "accuracy: 0.9333\n"
          ]
        },
        {
          "output_type": "execute_result",
          "data": {
            "text/plain": [
              "0.9333333333333333"
            ]
          },
          "metadata": {},
          "execution_count": 47
        }
      ]
    },
    {
      "cell_type": "code",
      "metadata": {
        "id": "l6iSJMLoUjIl",
        "colab": {
          "base_uri": "https://localhost:8080/"
        },
        "outputId": "ea0cbc83-7f2b-47e2-b5cd-3a749ac3e8a8"
      },
      "source": [
        "id3_dt.tree"
      ],
      "execution_count": null,
      "outputs": [
        {
          "output_type": "execute_result",
          "data": {
            "text/plain": [
              "{'2 <= 1.7': [0,\n",
              "  {'2 <= 5.0': [{'3 <= 1.6': [{'1 <= 3.3': [{'2 <= 4.9': [1, 2]}, 0]},\n",
              "      {'1 <= 2.8': [2, {'0 <= 5.9': [1, {'0 <= 6.0': [2, 1]}]}]}]},\n",
              "    2]}]}"
            ]
          },
          "metadata": {},
          "execution_count": 48
        }
      ]
    },
    {
      "cell_type": "code",
      "metadata": {
        "id": "Cj6q7mRVJqdh",
        "colab": {
          "base_uri": "https://localhost:8080/"
        },
        "outputId": "addbc7f4-1993-4a53-c36a-3cc957fcbd2c"
      },
      "source": [
        "clf = tree.DecisionTreeClassifier( criterion='entropy', max_depth = max_depth)\n",
        "clf.fit(X_train, y_train)\n",
        "y_pred = clf.predict(X_test)\n",
        "print(\"Accuracy:\", metrics.accuracy_score(y_test, y_pred))"
      ],
      "execution_count": null,
      "outputs": [
        {
          "output_type": "stream",
          "name": "stdout",
          "text": [
            "Accuracy: 0.9777777777777777\n"
          ]
        }
      ]
    },
    {
      "cell_type": "code",
      "metadata": {
        "id": "Fk2INGe71HMg",
        "colab": {
          "base_uri": "https://localhost:8080/",
          "height": 1000
        },
        "outputId": "5c9163aa-abb2-43e2-fc70-6e35042102e5"
      },
      "source": [
        "\n",
        "dot_data = StringIO()\n",
        "export_graphviz(clf, out_file=dot_data, feature_names = ('sepal length in cm', 'sepal width in cm', 'petal length in cm', \n",
        "                 'petal width in cm'),class_names=['0','1','2'])\n",
        "graph = pydotplus.graph_from_dot_data(dot_data.getvalue())\n",
        "graph.write_png('Iris_tree.png')\n",
        "Image(graph.create_png())"
      ],
      "execution_count": null,
      "outputs": [
        {
          "output_type": "execute_result",
          "data": {
            "image/png": "[encoded data removed]",
            "text/plain": [
              "<IPython.core.display.Image object>"
            ]
          },
          "metadata": {},
          "execution_count": 50
        }
      ]
    },
    {
      "cell_type": "code",
      "metadata": {
        "id": "51fARIACZgCw"
      },
      "source": [
        ""
      ],
      "execution_count": null,
      "outputs": []
    }
  ]
}